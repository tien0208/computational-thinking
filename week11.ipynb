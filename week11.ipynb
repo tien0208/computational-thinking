{
  "nbformat": 4,
  "nbformat_minor": 0,
  "metadata": {
    "colab": {
      "name": "week11",
      "provenance": [],
      "authorship_tag": "ABX9TyPYqOm9HFAPMoA2cVPwV3AT",
      "include_colab_link": true
    },
    "kernelspec": {
      "name": "python3",
      "display_name": "Python 3"
    }
  },
  "cells": [
    {
      "cell_type": "markdown",
      "metadata": {
        "id": "view-in-github",
        "colab_type": "text"
      },
      "source": [
        "<a href=\"https://colab.research.google.com/github/tien0208/computational-thinking/blob/main/week11.ipynb\" target=\"_parent\"><img src=\"https://colab.research.google.com/assets/colab-badge.svg\" alt=\"Open In Colab\"/></a>"
      ]
    },
    {
      "cell_type": "code",
      "metadata": {
        "colab": {
          "base_uri": "https://localhost:8080/"
        },
        "id": "u-98ivY6ir3Z",
        "outputId": "6b49988b-220a-47b9-e84b-f57bb3957b62"
      },
      "source": [
        "# 四捨五入 無條件進位法\n",
        "## Input\n",
        "seat = int(input(\"Enter a seat number? \"))\n",
        "\n",
        "## Process\n",
        "import math\n",
        "group = math.ceil(seat/5)\n",
        "\n",
        "## Output\n",
        "print(\"Group is\", group)"
      ],
      "execution_count": 2,
      "outputs": [
        {
          "output_type": "stream",
          "text": [
            "Enter a seat number? 10\n",
            "Group is 2\n"
          ],
          "name": "stdout"
        }
      ]
    },
    {
      "cell_type": "code",
      "metadata": {
        "colab": {
          "base_uri": "https://localhost:8080/"
        },
        "id": "cJmRqzJDiuvZ",
        "outputId": "f07754b1-a151-4b4d-c54f-a7d55de6e8eb"
      },
      "source": [
        "# # 商數餘數\n",
        "## Input\n",
        "seat = int(input(\"Enter a seat number? \"))\n",
        "## Process\n",
        "group = (seat - 1) // 5 + 1\n",
        "## Output\n",
        "print(\"Group is\", group)"
      ],
      "execution_count": 3,
      "outputs": [
        {
          "output_type": "stream",
          "text": [
            "Enter a seat number? 10\n",
            "Group is 2\n"
          ],
          "name": "stdout"
        }
      ]
    },
    {
      "cell_type": "code",
      "metadata": {
        "colab": {
          "base_uri": "https://localhost:8080/"
        },
        "id": "3UwS20P7i0bH",
        "outputId": "48c1f224-5bca-4f57-b32e-5355c714db17"
      },
      "source": [
        "# 方法(三):看餘數,用條件句\n",
        "number = int(input(\"Enter a seat number? \"))\n",
        "if number%5 == 0:\n",
        "    print(\"Group is \", number//5)\n",
        "else:\n",
        "    print(\"Group is \", number//5 +1)"
      ],
      "execution_count": 1,
      "outputs": [
        {
          "output_type": "stream",
          "text": [
            "Enter a seat number? 10\n",
            "Group is  2\n"
          ],
          "name": "stdout"
        }
      ]
    }
  ]
}