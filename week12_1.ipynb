{
  "nbformat": 4,
  "nbformat_minor": 0,
  "metadata": {
    "colab": {
      "name": "week12-1",
      "provenance": [],
      "authorship_tag": "ABX9TyPIOD+pS4AkTL8xyBgTiRjg",
      "include_colab_link": true
    },
    "kernelspec": {
      "name": "python3",
      "display_name": "Python 3"
    }
  },
  "cells": [
    {
      "cell_type": "markdown",
      "metadata": {
        "id": "view-in-github",
        "colab_type": "text"
      },
      "source": [
        "<a href=\"https://colab.research.google.com/github/tien0208/computational-thinking/blob/main/week12_1.ipynb\" target=\"_parent\"><img src=\"https://colab.research.google.com/assets/colab-badge.svg\" alt=\"Open In Colab\"/></a>"
      ]
    },
    {
      "cell_type": "code",
      "metadata": {
        "colab": {
          "base_uri": "https://localhost:8080/"
        },
        "id": "KX6lusijof-h",
        "outputId": "c572db67-4897-4be0-fd34-82367270339e"
      },
      "source": [
        "list1 = [1,2,3,4,5]\n",
        "print(list1)\n",
        "\n",
        "list2 = [\"1\",\"2\",\"3\",\"4\",\"5\"]\n",
        "print(list2)\n",
        "\n",
        "list3 = [1,2.0, 'Python']\n",
        "print(list3)\n",
        "\n",
        "print(\"Python\")\n",
        "\n",
        "list4 = list('Python')\n",
        "print(list4)\n",
        "\n",
        "shopping_list = [\"pasta\",\"chocolate\",\"luxuries\",\"clothes\",\"milk tea\"]\n",
        "print(shopping_list)"
      ],
      "execution_count": 1,
      "outputs": [
        {
          "output_type": "stream",
          "text": [
            "[1, 2, 3, 4, 5]\n",
            "['1', '2', '3', '4', '5']\n",
            "[1, 2.0, 'Python']\n",
            "Python\n",
            "['P', 'y', 't', 'h', 'o', 'n']\n",
            "['pasta', 'chocolate', 'luxuries', 'clothes', 'milk tea']\n"
          ],
          "name": "stdout"
        }
      ]
    }
  ]
}