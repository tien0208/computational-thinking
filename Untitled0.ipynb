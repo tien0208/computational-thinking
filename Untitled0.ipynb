{
  "nbformat": 4,
  "nbformat_minor": 0,
  "metadata": {
    "colab": {
      "name": "Untitled0.ipynb",
      "provenance": [],
      "authorship_tag": "ABX9TyOADaRgCA5b26q+Nq4qTWcP",
      "include_colab_link": true
    },
    "kernelspec": {
      "name": "python3",
      "display_name": "Python 3"
    }
  },
  "cells": [
    {
      "cell_type": "markdown",
      "metadata": {
        "id": "view-in-github",
        "colab_type": "text"
      },
      "source": [
        "<a href=\"https://colab.research.google.com/github/tien0208/computational-thinking/blob/main/Untitled0.ipynb\" target=\"_parent\"><img src=\"https://colab.research.google.com/assets/colab-badge.svg\" alt=\"Open In Colab\"/></a>"
      ]
    },
    {
      "cell_type": "code",
      "metadata": {
        "id": "ACv4zNJUia3p",
        "outputId": "23b7d678-068a-4e90-ddc8-6f1a87002e16",
        "colab": {
          "base_uri": "https://localhost:8080/"
        }
      },
      "source": [
        "cloth = int(input('請輸入上衣數量?'))\n",
        "trousers = int(input('請輸入褲子數量?'))\n",
        "vest = int(input('請輸入背心購買數量?'))\n",
        "\n",
        "total = cloth*300 + trousers*350 + vest*400\n",
        "\n",
        "print('訂購服裝的總金額為',total)"
      ],
      "execution_count": 1,
      "outputs": [
        {
          "output_type": "stream",
          "text": [
            "請輸入上衣數量?4\n",
            "請輸入褲子數量?2\n",
            "請輸入背心購買數量?3\n",
            "訂購服裝的總金額為 3100\n"
          ],
          "name": "stdout"
        }
      ]
    },
    {
      "cell_type": "code",
      "metadata": {
        "id": "G_0atrzNkqaM",
        "outputId": "8ec4ae0d-b6c4-4e29-fb0f-3894593fc1d6",
        "colab": {
          "base_uri": "https://localhost:8080/"
        }
      },
      "source": [
        "cans = int(input('請輸入購買飲料的罐數?'))\n",
        "\n",
        "total = (cans//12)*200 + (cans%12)*20\n",
        "\n",
        "print('需花費',total)"
      ],
      "execution_count": 3,
      "outputs": [
        {
          "output_type": "stream",
          "text": [
            "請輸入購買飲料的罐數?30\n",
            "需花費 520\n"
          ],
          "name": "stdout"
        }
      ]
    },
    {
      "cell_type": "code",
      "metadata": {
        "id": "I2HALHhgl1FN",
        "outputId": "7aa0e6d3-e29d-445a-bd0d-374a9384cc02",
        "colab": {
          "base_uri": "https://localhost:8080/"
        }
      },
      "source": [
        "fir = int(input('請輸入第一次期中考成績'))\n",
        "sec = int(input('請輸入第二次期中考成績'))\n",
        "fin = int(input('請輸入期末考成績'))\n",
        "\n",
        "sum = fir + sec + fin\n",
        "avg = sum/3\n",
        "\n",
        "print('三次成績的加總',sum)\n",
        "print('三次成績的平均',avg)\n"
      ],
      "execution_count": 4,
      "outputs": [
        {
          "output_type": "stream",
          "text": [
            "請輸入第一次期中考成績75\n",
            "請輸入第二次期中考成績75\n",
            "請輸入期末考成績90\n",
            "三次成績的加總 240\n",
            "三次成績的平均 80.0\n"
          ],
          "name": "stdout"
        }
      ]
    }
  ]
}