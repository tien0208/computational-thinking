{
  "nbformat": 4,
  "nbformat_minor": 0,
  "metadata": {
    "colab": {
      "name": "week10.ipynb",
      "provenance": [],
      "authorship_tag": "ABX9TyMMGg3isDpKKFNr32DVMxAA",
      "include_colab_link": true
    },
    "kernelspec": {
      "name": "python3",
      "display_name": "Python 3"
    }
  },
  "cells": [
    {
      "cell_type": "markdown",
      "metadata": {
        "id": "view-in-github",
        "colab_type": "text"
      },
      "source": [
        "<a href=\"https://colab.research.google.com/github/tien0208/computational-thinking/blob/main/week10.ipynb\" target=\"_parent\"><img src=\"https://colab.research.google.com/assets/colab-badge.svg\" alt=\"Open In Colab\"/></a>"
      ]
    },
    {
      "cell_type": "code",
      "metadata": {
        "colab": {
          "base_uri": "https://localhost:8080/"
        },
        "id": "-hYLZo6-bn8q",
        "outputId": "e845e954-5656-475c-b2a4-48074696d374"
      },
      "source": [
        "movie_title = \"money ball\"\n",
        "release_year = \"2011\"\n",
        "movie_time_mins = 133\n",
        "movie_rating = 7.6\n",
        "\n",
        "director = \"Bennett Miller\"\n",
        "stars_1 = \"Brad Pitt\"\n",
        "stars_2 = \"Robin Wright\"\n",
        "stars_3 = \"Jonah Hill\"\n",
        "\n",
        "print(\"電影英文名稱\",movie_title)\n",
        "print(\"上映上映年份\",release_year)\n",
        "print(\"電影時間長度\",movie_time_mins)\n",
        "print(\"電影的導演\",director)\n",
        "print(\"電影的主角\",stars_1,stars_2,stars_3)\n"
      ],
      "execution_count": 1,
      "outputs": [
        {
          "output_type": "stream",
          "text": [
            "電影英文名稱 money ball\n",
            "上映上映年份 2011\n",
            "電影時間長度 133\n",
            "電影的導演 Bennett Miller\n",
            "電影的主角 Brad Pitt Robin Wright Jonah Hill\n"
          ],
          "name": "stdout"
        }
      ]
    },
    {
      "cell_type": "code",
      "metadata": {
        "id": "IgqCniqRhI6I"
      },
      "source": [
        ""
      ],
      "execution_count": null,
      "outputs": []
    }
  ]
}